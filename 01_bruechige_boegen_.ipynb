{
 "cells": [
  {
   "cell_type": "markdown",
   "metadata": {},
   "source": [
    "<table style=\"width: 100%; border-style: none;\">\n",
    "<tr style=\"border-style: none\">\n",
    "<td style=\"border-style: none; width: 1%; font-size: 16px\">Institut f&uuml;r Theoretische Physik<br /> Universit&auml;t zu K&ouml;ln</td>\n",
    "<td style=\"border-style: none; width: 1%; font-size: 16px\">&nbsp;</td>\n",
    "<td style=\"border-style: none; width: 1%; text-align: right; font-size: 16px\">Prof. Dr. Simon Trebst<br />Peter Br&ouml;cker</td>\n",
    "</tr>\n",
    "</table>\n",
    "<hr>\n",
    "<h1 style=\"font-weight:bold; text-align: center; margin: 0px; padding:0px;\">Computerphysik</h1>\n",
    "<h1 style=\"font-weight:bold; text-align: center; margin: 0px; padding:0px;\">&Uuml;bungsblatt 1</h1>\n",
    "<hr>\n",
    "<h3 style=\"font-weight:bold; text-align: center; margin: 0px; padding:0px; margin-bottom: 20px;\">Sommersemester 2016</h3>\n",
    "\n",
    "**Website:** [http://www.thp.uni-koeln.de/trebst/Lectures/2016-CompPhys.shtml](http://www.thp.uni-koeln.de/trebst/Lectures/2016-CompPhys.shtml)\n",
    "\n",
    "**Abgabe**: Montag, 18. April, 2016 vor der Vorlesung"
   ]
  },
  {
   "cell_type": "markdown",
   "metadata": {},
   "source": [
    "**Name**: <font color=\"blue\">Juan Carlos Correia</font>\n",
    "\n",
    "**Matrikelnummer**: <font color=\"blue\">5873738</font>"
   ]
  },
  {
   "cell_type": "markdown",
   "metadata": {},
   "source": [
    "<table style=\"border-style: none; width: 100%\"><tr style=\"border-style: none;\">\n",
    "<td style=\"border-style: none; width: 1%; font-size: 20px; font-weight: bold\">Brüchige Bögen</td>\n",
    "<td style=\"border-style: none; width: 1%; text-align: right\">(5 Punkte)</td></tr></table>\n",
    "\n"
   ]
  },
  {
   "cell_type": "markdown",
   "metadata": {},
   "source": [
    "Die **Farey-Folge** $n$-ter Ordnung ist die Folge aller vollständig gekürzter Brüche $p / q$, deren Wert zwischen $0$ und $1$ liegt und dessen Nenner $q$ maximal $n$ ist. John Farey, der der Folge ihren Namen gab, stellte die Vermutung auf, dass die Glieder, die zum ersten Mal ab der $n+1$-ten Ordnung auftreten, sich aus zwei aufeinanderfolgenden Paaren $(p_a, q_a)$ und $(p_b, q_b)$ der Ordnung $n$ berechnen lassen:\n",
    "\n",
    "$\\quad \\dfrac{p_a + p_b}{q_a + q_b}$\n",
    "\n",
    "Vervollständigen Sie die untenstehende Funktion, so dass die zur Folge $n$-ter Ordnung gehörenden Glieder in dem Array *terms* gespeichert werden  und berechnen Sie dann die Glieder der Farey-Folge sechster Ordnung."
   ]
  },
  {
   "cell_type": "code",
   "execution_count": 14,
   "metadata": {
    "collapsed": false
   },
   "outputs": [
    {
     "data": {
      "text/plain": [
       "19-element Array{Tuple{Int64,Int64},1}:\n",
       " (0,1)\n",
       " (1,1)\n",
       " (1,2)\n",
       " (1,3)\n",
       " (2,3)\n",
       " (1,4)\n",
       " (3,4)\n",
       " (1,5)\n",
       " (2,5)\n",
       " (3,5)\n",
       " (4,5)\n",
       " (1,6)\n",
       " (5,6)\n",
       " (1,7)\n",
       " (2,7)\n",
       " (3,7)\n",
       " (4,7)\n",
       " (5,7)\n",
       " (6,7)"
      ]
     },
     "execution_count": 14,
     "metadata": {},
     "output_type": "execute_result"
    }
   ],
   "source": [
    "function farey(n)\n",
    "    # initialize the numerators a, c and denominators b, d                                                            \n",
    "    a, b, c, d = 0, 1, 1, n\n",
    "\n",
    "    # this list will hold the fractions in the form                                                                   \n",
    "    # (p, q) where p is the numerator and q the denominator                                                           \n",
    "    terms = [(a,b)]\n",
    "\n",
    "    \n",
    "    # use push!(terms, (a,b)) to add new content to the array terms    \n",
    "\n",
    "\n",
    "    # generate all completely reduced fractions up to 1 == n / n                                                      \n",
    "    while c <= n\n",
    "        b = c\n",
    "        for a = 1:b\n",
    "            teilbar = false \n",
    "            for divisor = 2:a\n",
    "                if a % divisor == 0  # Modulo ist Prozentzeichen. Zwei == Vergleichen. Ein = Definiere.\n",
    "                    if b % divisor == 0\n",
    "                        teilbar = true\n",
    "                        break # break..gehe aus der Schleife raus.. continue... nächster Schritt der Schleife  \n",
    "                    end\n",
    "                end\n",
    "            end\n",
    "            if ! teilbar\n",
    "                push!(terms, (a,b))\n",
    "            end\n",
    "        end\n",
    "        \n",
    "        ###...\n",
    "        # Fuegen Sie Ihren Code hier ein\n",
    "        ###\n",
    "        c += 1\n",
    "    end\n",
    "    \n",
    "    return terms\n",
    "end\n",
    "\n",
    "farey(7)"
   ]
  },
  {
   "cell_type": "markdown",
   "metadata": {},
   "source": [
    "Die Entstehung der Folgenglieder lässt sich sehr schön visualisieren, wie hier beispielhaft dargestellt:\n",
    "\n",
    "![Bruechige Boegen](http://www.thp.uni-koeln.de/trebst/Lectures/CompPhys-2016/img/01_bruechige_boegen_figure.png \"Illustration Bruechige Boegen\")\n",
    "\n",
    "Beschreiben Sie einen Algorithmus (ohne ihn zu implementieren!), wie ein solches Bild in der Praxis gezeichnet wird."
   ]
  }
 ],
 "metadata": {
  "kernelspec": {
   "display_name": "Julia 0.4.5",
   "language": "julia",
   "name": "julia-0.4"
  },
  "language_info": {
   "file_extension": ".jl",
   "mimetype": "application/julia",
   "name": "julia",
   "version": "0.4.5"
  }
 },
 "nbformat": 4,
 "nbformat_minor": 0
}
